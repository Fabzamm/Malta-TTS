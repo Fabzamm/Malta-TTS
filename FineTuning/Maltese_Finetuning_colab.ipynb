{
 "cells": [
  {
   "cell_type": "markdown",
   "id": "870f086e",
   "metadata": {},
   "source": [
    "# XTTS Finetuning for Maltese"
   ]
  },
  {
   "cell_type": "markdown",
   "id": "29a1c709",
   "metadata": {},
   "source": [
    "## Requirements\n",
    "- Python 3.8 or higher\n",
    "- PyTorch 1.7.0 or higher"
   ]
  },
  {
   "cell_type": "code",
   "execution_count": null,
   "id": "a3e30b65",
   "metadata": {
    "vscode": {
     "languageId": "shellscript"
    }
   },
   "outputs": [],
   "source": [
    "from google.colab import drive\n",
    "drive.mount('/content/drive')\n",
    "\n",
    "!git clone https://github.com/Wubpooz/Malta-TTS.git\n",
    "%cd Malta-TTS/FineTuning/NewLanguage\n",
    "\n",
    "!pip install --upgrade pip\n",
    "!pip install torch torchaudio --index-url https://download.pytorch.org/whl/cu121\n",
    "!pip install -r requirements.txt\n",
    "!python -c \"import nltk; nltk.download('punkt')\"\n",
    "!python -m spacy download en_core_web_sm"
   ]
  },
  {
   "cell_type": "markdown",
   "id": "697307d4",
   "metadata": {},
   "source": [
    "## Data Preparation"
   ]
  },
  {
   "cell_type": "code",
   "execution_count": null,
   "id": "d44ff4a2",
   "metadata": {},
   "outputs": [],
   "source": [
    "from datasets import load_dataset\n",
    "import os\n",
    "import pandas as pd\n",
    "import shutil\n",
    "\n",
    "print(\"Loading dataset from Hugging Face...\")\n",
    "ds = load_dataset(\"Bluefir/MASRI_HEADSET_v2\")\n",
    "\n",
    "output_dir = \"/content/drive/MyDrive/XTTS_Maltese_Data\"\n",
    "os.makedirs(output_dir, exist_ok=True)\n",
    "wavs_dir = os.path.join(output_dir, \"wavs\")\n",
    "os.makedirs(wavs_dir, exist_ok=True)\n",
    "\n",
    "print(\"Preparing and saving dataset files...\")\n",
    "\n",
    "def save_dataset_split(split, filename):\n",
    "  data = []\n",
    "  for example in ds[split]:\n",
    "    audio_path = example['audio']['path']\n",
    "    text = example['normalized_text']\n",
    "    speaker_id = example['speaker_id']\n",
    "    \n",
    "    shutil.copy(audio_path, wavs_dir)\n",
    "\n",
    "    audio_filename = os.path.basename(audio_path)\n",
    "    data.append({\n",
    "      'audio_file': os.path.join(\"wavs\", audio_filename),\n",
    "      'text': text,\n",
    "      'speaker_name': speaker_id\n",
    "    })\n",
    "    \n",
    "  df = pd.DataFrame(data)\n",
    "  df.to_csv(os.path.join(output_dir, filename), sep=\"|\", index=False, header=False)\n",
    "  print(f\"Saved {len(df)} files to {filename}\")\n",
    "\n",
    "save_dataset_split(\"train\", \"metadata_train.csv\")\n",
    "save_dataset_split(\"test\", \"metadata_eval.csv\")\n",
    "\n",
    "print(\"Dataset preparation complete.\")"
   ]
  },
  {
   "cell_type": "markdown",
   "id": "e498624b",
   "metadata": {},
   "source": [
    "## Finetuning"
   ]
  },
  {
   "cell_type": "code",
   "execution_count": null,
   "id": "f64e3b84",
   "metadata": {},
   "outputs": [],
   "source": [
    "# Define paths and parameters\n",
    "metadata_train_path = \"/content/drive/MyDrive/XTTS_Maltese_Data/metadata_train.csv\"\n",
    "metadata_eval_path = \"/content/drive/MyDrive/XTTS_Maltese_Data/metadata_eval.csv\"\n",
    "output_path = \"/content/drive/MyDrive/XTTS_Maltese_Training\"\n",
    "language_code = \"mt\"\n",
    "extended_vocab_size_param = 100000\n",
    "\n",
    "os.makedirs(output_path, exist_ok=True)\n",
    "\n",
    "!python new_language_training_cli.py \\\n",
    "    --is_download True \\\n",
    "    --is_tokenizer_extension True \\\n",
    "    --output_path \"{output_path}\" \\\n",
    "    --metadatas \"{metadata_train_path},{metadata_eval_path},{language_code}\" \\\n",
    "    --num_epochs 100 \\\n",
    "    --batch_size 3 \\\n",
    "    --grad_acumm 84 \\\n",
    "    --max_audio_length 255995 \\\n",
    "    --max_text_length 200 \\\n",
    "    --weight_decay 1e-2 \\\n",
    "    --lr 5e-6 \\\n",
    "    --save_step 10000 \\\n",
    "    --custom_model=custom_model_name \\\n",
    "    --version=main \\\n",
    "    --multi_gpu \\\n",
    "    --metadata_path \"{metadata_train_path}\" \\\n",
    "    --language \"{language_code}\" \\\n",
    "    --extended_vocab_size {extended_vocab_size_param}\n",
    "\n",
    "print(\"Finetuning process initiated.\")"
   ]
  }
 ],
 "metadata": {
  "kernelspec": {
   "display_name": "xtts_env",
   "language": "python",
   "name": "python3"
  },
  "language_info": {
   "codemirror_mode": {
    "name": "ipython",
    "version": 3
   },
   "file_extension": ".py",
   "mimetype": "text/x-python",
   "name": "python",
   "nbconvert_exporter": "python",
   "pygments_lexer": "ipython3",
   "version": "3.10.8"
  }
 },
 "nbformat": 4,
 "nbformat_minor": 5
}
