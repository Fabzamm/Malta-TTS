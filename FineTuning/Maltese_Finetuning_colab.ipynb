{
 "cells": [
  {
   "cell_type": "code",
   "execution_count": 1,
   "id": "a3e30b65",
   "metadata": {
    "vscode": {
     "languageId": "shellscript"
    }
   },
   "outputs": [
    {
     "name": "stdout",
     "output_type": "stream",
     "text": [
      "Requirement already satisfied: datasets in c:\\users\\mathi\\documents\\github\\xtts_tuning_maltese\\xtts_env\\lib\\site-packages (4.0.0)\n",
      "Requirement already satisfied: filelock in c:\\users\\mathi\\documents\\github\\xtts_tuning_maltese\\xtts_env\\lib\\site-packages (from datasets) (3.18.0)\n",
      "Requirement already satisfied: numpy>=1.17 in c:\\users\\mathi\\documents\\github\\xtts_tuning_maltese\\xtts_env\\lib\\site-packages (from datasets) (1.22.0)\n",
      "Requirement already satisfied: pyarrow>=15.0.0 in c:\\users\\mathi\\documents\\github\\xtts_tuning_maltese\\xtts_env\\lib\\site-packages (from datasets) (21.0.0)\n",
      "Requirement already satisfied: dill<0.3.9,>=0.3.0 in c:\\users\\mathi\\documents\\github\\xtts_tuning_maltese\\xtts_env\\lib\\site-packages (from datasets) (0.3.8)\n",
      "Requirement already satisfied: pandas in c:\\users\\mathi\\documents\\github\\xtts_tuning_maltese\\xtts_env\\lib\\site-packages (from datasets) (1.5.3)\n",
      "Requirement already satisfied: requests>=2.32.2 in c:\\users\\mathi\\documents\\github\\xtts_tuning_maltese\\xtts_env\\lib\\site-packages (from datasets) (2.32.4)\n",
      "Requirement already satisfied: tqdm>=4.66.3 in c:\\users\\mathi\\documents\\github\\xtts_tuning_maltese\\xtts_env\\lib\\site-packages (from datasets) (4.67.1)\n",
      "Requirement already satisfied: xxhash in c:\\users\\mathi\\documents\\github\\xtts_tuning_maltese\\xtts_env\\lib\\site-packages (from datasets) (3.5.0)\n",
      "Requirement already satisfied: multiprocess<0.70.17 in c:\\users\\mathi\\documents\\github\\xtts_tuning_maltese\\xtts_env\\lib\\site-packages (from datasets) (0.70.16)\n",
      "Requirement already satisfied: fsspec<=2025.3.0,>=2023.1.0 in c:\\users\\mathi\\documents\\github\\xtts_tuning_maltese\\xtts_env\\lib\\site-packages (from fsspec[http]<=2025.3.0,>=2023.1.0->datasets) (2025.3.0)\n",
      "Requirement already satisfied: huggingface-hub>=0.24.0 in c:\\users\\mathi\\documents\\github\\xtts_tuning_maltese\\xtts_env\\lib\\site-packages (from datasets) (0.34.3)\n",
      "Requirement already satisfied: packaging in c:\\users\\mathi\\documents\\github\\xtts_tuning_maltese\\xtts_env\\lib\\site-packages (from datasets) (25.0)\n",
      "Requirement already satisfied: pyyaml>=5.1 in c:\\users\\mathi\\documents\\github\\xtts_tuning_maltese\\xtts_env\\lib\\site-packages (from datasets) (6.0.2)\n",
      "Requirement already satisfied: aiohttp!=4.0.0a0,!=4.0.0a1 in c:\\users\\mathi\\documents\\github\\xtts_tuning_maltese\\xtts_env\\lib\\site-packages (from fsspec[http]<=2025.3.0,>=2023.1.0->datasets) (3.12.15)\n",
      "Requirement already satisfied: aiohappyeyeballs>=2.5.0 in c:\\users\\mathi\\documents\\github\\xtts_tuning_maltese\\xtts_env\\lib\\site-packages (from aiohttp!=4.0.0a0,!=4.0.0a1->fsspec[http]<=2025.3.0,>=2023.1.0->datasets) (2.6.1)\n",
      "Requirement already satisfied: aiosignal>=1.4.0 in c:\\users\\mathi\\documents\\github\\xtts_tuning_maltese\\xtts_env\\lib\\site-packages (from aiohttp!=4.0.0a0,!=4.0.0a1->fsspec[http]<=2025.3.0,>=2023.1.0->datasets) (1.4.0)\n",
      "Requirement already satisfied: async-timeout<6.0,>=4.0 in c:\\users\\mathi\\documents\\github\\xtts_tuning_maltese\\xtts_env\\lib\\site-packages (from aiohttp!=4.0.0a0,!=4.0.0a1->fsspec[http]<=2025.3.0,>=2023.1.0->datasets) (5.0.1)\n",
      "Requirement already satisfied: attrs>=17.3.0 in c:\\users\\mathi\\documents\\github\\xtts_tuning_maltese\\xtts_env\\lib\\site-packages (from aiohttp!=4.0.0a0,!=4.0.0a1->fsspec[http]<=2025.3.0,>=2023.1.0->datasets) (25.3.0)\n",
      "Requirement already satisfied: frozenlist>=1.1.1 in c:\\users\\mathi\\documents\\github\\xtts_tuning_maltese\\xtts_env\\lib\\site-packages (from aiohttp!=4.0.0a0,!=4.0.0a1->fsspec[http]<=2025.3.0,>=2023.1.0->datasets) (1.7.0)\n",
      "Requirement already satisfied: multidict<7.0,>=4.5 in c:\\users\\mathi\\documents\\github\\xtts_tuning_maltese\\xtts_env\\lib\\site-packages (from aiohttp!=4.0.0a0,!=4.0.0a1->fsspec[http]<=2025.3.0,>=2023.1.0->datasets) (6.6.3)\n",
      "Requirement already satisfied: propcache>=0.2.0 in c:\\users\\mathi\\documents\\github\\xtts_tuning_maltese\\xtts_env\\lib\\site-packages (from aiohttp!=4.0.0a0,!=4.0.0a1->fsspec[http]<=2025.3.0,>=2023.1.0->datasets) (0.3.2)\n",
      "Requirement already satisfied: yarl<2.0,>=1.17.0 in c:\\users\\mathi\\documents\\github\\xtts_tuning_maltese\\xtts_env\\lib\\site-packages (from aiohttp!=4.0.0a0,!=4.0.0a1->fsspec[http]<=2025.3.0,>=2023.1.0->datasets) (1.20.1)\n",
      "Requirement already satisfied: typing-extensions>=4.1.0 in c:\\users\\mathi\\documents\\github\\xtts_tuning_maltese\\xtts_env\\lib\\site-packages (from multidict<7.0,>=4.5->aiohttp!=4.0.0a0,!=4.0.0a1->fsspec[http]<=2025.3.0,>=2023.1.0->datasets) (4.14.1)\n",
      "Requirement already satisfied: idna>=2.0 in c:\\users\\mathi\\documents\\github\\xtts_tuning_maltese\\xtts_env\\lib\\site-packages (from yarl<2.0,>=1.17.0->aiohttp!=4.0.0a0,!=4.0.0a1->fsspec[http]<=2025.3.0,>=2023.1.0->datasets) (3.10)\n",
      "Requirement already satisfied: charset_normalizer<4,>=2 in c:\\users\\mathi\\documents\\github\\xtts_tuning_maltese\\xtts_env\\lib\\site-packages (from requests>=2.32.2->datasets) (3.4.2)\n",
      "Requirement already satisfied: urllib3<3,>=1.21.1 in c:\\users\\mathi\\documents\\github\\xtts_tuning_maltese\\xtts_env\\lib\\site-packages (from requests>=2.32.2->datasets) (2.5.0)\n",
      "Requirement already satisfied: certifi>=2017.4.17 in c:\\users\\mathi\\documents\\github\\xtts_tuning_maltese\\xtts_env\\lib\\site-packages (from requests>=2.32.2->datasets) (2025.7.14)\n",
      "Requirement already satisfied: colorama in c:\\users\\mathi\\documents\\github\\xtts_tuning_maltese\\xtts_env\\lib\\site-packages (from tqdm>=4.66.3->datasets) (0.4.6)\n",
      "Requirement already satisfied: python-dateutil>=2.8.1 in c:\\users\\mathi\\documents\\github\\xtts_tuning_maltese\\xtts_env\\lib\\site-packages (from pandas->datasets) (2.9.0.post0)\n",
      "Requirement already satisfied: pytz>=2020.1 in c:\\users\\mathi\\documents\\github\\xtts_tuning_maltese\\xtts_env\\lib\\site-packages (from pandas->datasets) (2025.2)\n",
      "Requirement already satisfied: six>=1.5 in c:\\users\\mathi\\documents\\github\\xtts_tuning_maltese\\xtts_env\\lib\\site-packages (from python-dateutil>=2.8.1->pandas->datasets) (1.17.0)\n",
      "Note: you may need to restart the kernel to use updated packages.\n",
      "Requirement already satisfied: torch>=2.1 in c:\\users\\mathi\\documents\\github\\xtts_tuning_maltese\\xtts_env\\lib\\site-packages (from -r NewLanguage/requirements.txt (line 2)) (2.7.1)\n",
      "Requirement already satisfied: torchaudio>=2.1 in c:\\users\\mathi\\documents\\github\\xtts_tuning_maltese\\xtts_env\\lib\\site-packages (from -r NewLanguage/requirements.txt (line 3)) (2.7.1)\n",
      "Requirement already satisfied: trainer>=0.0.36 in c:\\users\\mathi\\documents\\github\\xtts_tuning_maltese\\xtts_env\\lib\\site-packages (from -r NewLanguage/requirements.txt (line 6)) (0.0.36)\n",
      "Requirement already satisfied: coqpit>=0.0.16 in c:\\users\\mathi\\documents\\github\\xtts_tuning_maltese\\xtts_env\\lib\\site-packages (from -r NewLanguage/requirements.txt (line 7)) (0.0.17)\n",
      "Requirement already satisfied: unidecode>=1.3.2 in c:\\users\\mathi\\documents\\github\\xtts_tuning_maltese\\xtts_env\\lib\\site-packages (from -r NewLanguage/requirements.txt (line 10)) (1.4.0)\n",
      "Requirement already satisfied: num2words>=0.5.12 in c:\\users\\mathi\\documents\\github\\xtts_tuning_maltese\\xtts_env\\lib\\site-packages (from -r NewLanguage/requirements.txt (line 11)) (0.5.14)\n",
      "Requirement already satisfied: spacy>=3.0.0 in c:\\users\\mathi\\documents\\github\\xtts_tuning_maltese\\xtts_env\\lib\\site-packages (from -r NewLanguage/requirements.txt (line 13)) (3.8.7)\n",
      "Requirement already satisfied: tokenizers>=0.13.0 in c:\\users\\mathi\\documents\\github\\xtts_tuning_maltese\\xtts_env\\lib\\site-packages (from -r NewLanguage/requirements.txt (line 14)) (0.21.4)\n",
      "Collecting numpy>=1.24.0 (from -r NewLanguage/requirements.txt (line 17))\n",
      "  Using cached numpy-2.2.6-cp310-cp310-win_amd64.whl.metadata (60 kB)\n",
      "Requirement already satisfied: scipy>=1.11.0 in c:\\users\\mathi\\documents\\github\\xtts_tuning_maltese\\xtts_env\\lib\\site-packages (from -r NewLanguage/requirements.txt (line 18)) (1.11.4)\n",
      "Requirement already satisfied: soundfile>=0.12.0 in c:\\users\\mathi\\documents\\github\\xtts_tuning_maltese\\xtts_env\\lib\\site-packages (from -r NewLanguage/requirements.txt (line 19)) (0.13.1)\n",
      "Requirement already satisfied: librosa>=0.10.0 in c:\\users\\mathi\\documents\\github\\xtts_tuning_maltese\\xtts_env\\lib\\site-packages (from -r NewLanguage/requirements.txt (line 20)) (0.10.0)\n",
      "Requirement already satisfied: tqdm>=4.64.1 in c:\\users\\mathi\\documents\\github\\xtts_tuning_maltese\\xtts_env\\lib\\site-packages (from -r NewLanguage/requirements.txt (line 21)) (4.67.1)\n",
      "Requirement already satisfied: pyyaml>=6.0 in c:\\users\\mathi\\documents\\github\\xtts_tuning_maltese\\xtts_env\\lib\\site-packages (from -r NewLanguage/requirements.txt (line 22)) (6.0.2)\n",
      "Requirement already satisfied: nltk>=3.8.0 in c:\\users\\mathi\\documents\\github\\xtts_tuning_maltese\\xtts_env\\lib\\site-packages (from -r NewLanguage/requirements.txt (line 23)) (3.9.1)\n",
      "Collecting deepspeed (from -r NewLanguage/requirements.txt (line 27))\n",
      "  Downloading deepspeed-0.17.4.tar.gz (1.6 MB)\n",
      "     ---------------------------------------- 0.0/1.6 MB ? eta -:--:--\n",
      "     -------------------- ------------------- 0.8/1.6 MB 11.2 MB/s eta 0:00:01\n",
      "     -------------------- ------------------- 0.8/1.6 MB 11.2 MB/s eta 0:00:01\n",
      "     -------------------- ------------------- 0.8/1.6 MB 11.2 MB/s eta 0:00:01\n",
      "     -------------------- ------------------- 0.8/1.6 MB 11.2 MB/s eta 0:00:01\n",
      "     -------------------- ------------------- 0.8/1.6 MB 11.2 MB/s eta 0:00:01\n",
      "     -------------------- ------------------- 0.8/1.6 MB 11.2 MB/s eta 0:00:01\n",
      "     -------------------- ------------------- 0.8/1.6 MB 11.2 MB/s eta 0:00:01\n",
      "     -------------------- ------------------- 0.8/1.6 MB 11.2 MB/s eta 0:00:01\n",
      "     -------------------- ------------------- 0.8/1.6 MB 11.2 MB/s eta 0:00:01\n",
      "     -------------------- ------------------- 0.8/1.6 MB 11.2 MB/s eta 0:00:01\n",
      "     -------------------- ------------------- 0.8/1.6 MB 11.2 MB/s eta 0:00:01\n",
      "     --------------------------------- ------ 1.3/1.6 MB 459.7 kB/s eta 0:00:01\n",
      "     ---------------------------------------- 1.6/1.6 MB 519.7 kB/s  0:00:02\n",
      "  Installing build dependencies: started\n",
      "  Installing build dependencies: finished with status 'done'\n",
      "  Getting requirements to build wheel: started\n",
      "  Getting requirements to build wheel: finished with status 'error'\n",
      "Note: you may need to restart the kernel to use updated packages.\n"
     ]
    },
    {
     "name": "stderr",
     "output_type": "stream",
     "text": [
      "  error: subprocess-exited-with-error\n",
      "  \n",
      "  × Getting requirements to build wheel did not run successfully.\n",
      "  │ exit code: 1\n",
      "  ╰─> [20 lines of output]\n",
      "      [WARNING] Unable to import torch, pre-compiling ops will be disabled. Please visit https://pytorch.org/ to see how to properly install torch on your system.\n",
      "      \u001b[93m [WARNING] \u001b[0m unable to import torch, please install it if you want to pre-compile any deepspeed ops.\n",
      "      DS_BUILD_OPS=1\n",
      "      Traceback (most recent call last):\n",
      "        File \"c:\\Users\\mathi\\Documents\\GitHub\\XTTS_tuning_Maltese\\xtts_env\\lib\\site-packages\\pip\\_vendor\\pyproject_hooks\\_in_process\\_in_process.py\", line 389, in <module>\n",
      "          main()\n",
      "        File \"c:\\Users\\mathi\\Documents\\GitHub\\XTTS_tuning_Maltese\\xtts_env\\lib\\site-packages\\pip\\_vendor\\pyproject_hooks\\_in_process\\_in_process.py\", line 373, in main\n",
      "          json_out[\"return_val\"] = hook(**hook_input[\"kwargs\"])\n",
      "        File \"c:\\Users\\mathi\\Documents\\GitHub\\XTTS_tuning_Maltese\\xtts_env\\lib\\site-packages\\pip\\_vendor\\pyproject_hooks\\_in_process\\_in_process.py\", line 143, in get_requires_for_build_wheel\n",
      "          return hook(config_settings)\n",
      "        File \"C:\\Users\\mathi\\AppData\\Local\\Temp\\pip-build-env-zg0a_hkn\\overlay\\Lib\\site-packages\\setuptools\\build_meta.py\", line 331, in get_requires_for_build_wheel\n",
      "          return self._get_build_requires(config_settings, requirements=[])\n",
      "        File \"C:\\Users\\mathi\\AppData\\Local\\Temp\\pip-build-env-zg0a_hkn\\overlay\\Lib\\site-packages\\setuptools\\build_meta.py\", line 301, in _get_build_requires\n",
      "          self.run_setup()\n",
      "        File \"C:\\Users\\mathi\\AppData\\Local\\Temp\\pip-build-env-zg0a_hkn\\overlay\\Lib\\site-packages\\setuptools\\build_meta.py\", line 512, in run_setup\n",
      "          super().run_setup(setup_script=setup_script)\n",
      "        File \"C:\\Users\\mathi\\AppData\\Local\\Temp\\pip-build-env-zg0a_hkn\\overlay\\Lib\\site-packages\\setuptools\\build_meta.py\", line 317, in run_setup\n",
      "          exec(code, locals())\n",
      "        File \"<string>\", line 157, in <module>\n",
      "      AssertionError: Unable to pre-compile ops without torch installed. Please install torch before attempting to pre-compile ops.\n",
      "      [end of output]\n",
      "  \n",
      "  note: This error originates from a subprocess, and is likely not a problem with pip.\n",
      "error: subprocess-exited-with-error\n",
      "\n",
      "× Getting requirements to build wheel did not run successfully.\n",
      "│ exit code: 1\n",
      "╰─> See above for output.\n",
      "\n",
      "note: This error originates from a subprocess, and is likely not a problem with pip.\n"
     ]
    }
   ],
   "source": [
    "%pip install -r NewLanguage/requirements.txt"
   ]
  },
  {
   "cell_type": "code",
   "execution_count": 2,
   "id": "d44ff4a2",
   "metadata": {},
   "outputs": [
    {
     "name": "stderr",
     "output_type": "stream",
     "text": [
      "c:\\Users\\mathi\\Documents\\GitHub\\XTTS_tuning_Maltese\\xtts_env\\lib\\site-packages\\tqdm\\auto.py:21: TqdmWarning: IProgress not found. Please update jupyter and ipywidgets. See https://ipywidgets.readthedocs.io/en/stable/user_install.html\n",
      "  from .autonotebook import tqdm as notebook_tqdm\n",
      "c:\\Users\\mathi\\Documents\\GitHub\\XTTS_tuning_Maltese\\xtts_env\\lib\\site-packages\\huggingface_hub\\file_download.py:143: UserWarning: `huggingface_hub` cache-system uses symlinks by default to efficiently store duplicated files but your machine does not support them in C:\\Users\\mathi\\.cache\\huggingface\\hub\\datasets--Bluefir--MASRI_HEADSET_v2. Caching files will still work but in a degraded version that might require more space on your disk. This warning can be disabled by setting the `HF_HUB_DISABLE_SYMLINKS_WARNING` environment variable. For more details, see https://huggingface.co/docs/huggingface_hub/how-to-cache#limitations.\n",
      "To support symlinks on Windows, you either need to activate Developer Mode or to run Python as an administrator. In order to activate developer mode, see this article: https://docs.microsoft.com/en-us/windows/apps/get-started/enable-your-device-for-development\n",
      "  warnings.warn(message)\n",
      "Xet Storage is enabled for this repo, but the 'hf_xet' package is not installed. Falling back to regular HTTP download. For better performance, install the package with: `pip install huggingface_hub[hf_xet]` or `pip install hf_xet`\n",
      "Xet Storage is enabled for this repo, but the 'hf_xet' package is not installed. Falling back to regular HTTP download. For better performance, install the package with: `pip install huggingface_hub[hf_xet]` or `pip install hf_xet`\n",
      "Xet Storage is enabled for this repo, but the 'hf_xet' package is not installed. Falling back to regular HTTP download. For better performance, install the package with: `pip install huggingface_hub[hf_xet]` or `pip install hf_xet`\n",
      "Generating train split: 100%|██████████| 3983/3983 [00:01<00:00, 3328.89 examples/s]\n",
      "Generating test split: 100%|██████████| 996/996 [00:00<00:00, 3359.75 examples/s]\n"
     ]
    }
   ],
   "source": [
    "from datasets import load_dataset\n",
    "\n",
    "ds = load_dataset(\"Bluefir/MASRI_HEADSET_v2\")"
   ]
  }
 ],
 "metadata": {
  "kernelspec": {
   "display_name": "xtts_env",
   "language": "python",
   "name": "python3"
  },
  "language_info": {
   "codemirror_mode": {
    "name": "ipython",
    "version": 3
   },
   "file_extension": ".py",
   "mimetype": "text/x-python",
   "name": "python",
   "nbconvert_exporter": "python",
   "pygments_lexer": "ipython3",
   "version": "3.10.8"
  }
 },
 "nbformat": 4,
 "nbformat_minor": 5
}
